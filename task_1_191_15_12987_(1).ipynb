{
  "nbformat": 4,
  "nbformat_minor": 0,
  "metadata": {
    "colab": {
      "name": "task-1_191_15_12987 (1).ipynb",
      "provenance": []
    },
    "kernelspec": {
      "name": "python3",
      "display_name": "Python 3"
    },
    "language_info": {
      "name": "python"
    }
  },
  "cells": [
    {
      "cell_type": "code",
      "metadata": {
        "colab": {
          "base_uri": "https://localhost:8080/"
        },
        "id": "pLw7oA3DvHcd",
        "outputId": "f8229f96-8c7f-40e1-9c11-478961f78fa6"
      },
      "source": [
        "#problem-1\n",
        "\n",
        "ft = int(input(\"Input distance in feet: \"))\n",
        "inches = ft * 12\n",
        "yards = ft / 3.0\n",
        "miles = ft / 5280.0\n",
        "\n",
        "print(\"Convert distance to inches is %i inches.\" % inches)\n",
        "print(\"Convert distance to yards is %.2f yards.\" % yards)\n",
        "print(\"Convert distance to miles is %.2f miles.\" % miles)"
      ],
      "execution_count": null,
      "outputs": [
        {
          "output_type": "stream",
          "text": [
            "Input distance in feet: 34\n",
            "Convert distance to inches is 408 inches.\n",
            "Convert distance to yards is 11.33 yards.\n",
            "Convert distance to miles is 0.01 miles.\n"
          ],
          "name": "stdout"
        }
      ]
    },
    {
      "cell_type": "code",
      "metadata": {
        "colab": {
          "base_uri": "https://localhost:8080/"
        },
        "id": "z89VHUwyxKfi",
        "outputId": "4c575bad-22c4-47db-e319-74e1de3d7d98"
      },
      "source": [
        "#problem-2\n",
        "\n",
        "def evenword_reversing(txt):\n",
        "         return ' '.join(i[::-1]if not len(i)%2 \n",
        "         else i for i in txt.split())\n",
        "s = input(\"Enter the string: \")\n",
        "print(evenword_reversing(s))\n"
      ],
      "execution_count": null,
      "outputs": [
        {
          "output_type": "stream",
          "text": [
            "Enter the string: this piece is made of cotton\n",
            "siht piece si edam fo nottoc\n"
          ],
          "name": "stdout"
        }
      ]
    },
    {
      "cell_type": "code",
      "metadata": {
        "colab": {
          "base_uri": "https://localhost:8080/"
        },
        "id": "dRIak9M53a_T",
        "outputId": "cf463e75-a93e-4f06-e169-18a820bff073"
      },
      "source": [
        "#problem-3\n",
        "\n",
        "def is_twocircles_collision(circle1, circle2):\n",
        "   x1, y1, r1 = circle1\n",
        "   x2, y2, r2 = circle2\n",
        "   distance = ((x1-x2)**2 + (y1-y2)**2)**0.5\n",
        "   return distance <= r1 + r2\n",
        "print(is_twocircles_collision([0.2,2.5, 3.9], [10,22.56, 6.8]))\n",
        "print(is_twocircles_collision([2,6,10], [10,11,15]))"
      ],
      "execution_count": null,
      "outputs": [
        {
          "output_type": "stream",
          "text": [
            "False\n",
            "True\n"
          ],
          "name": "stdout"
        }
      ]
    },
    {
      "cell_type": "code",
      "metadata": {
        "colab": {
          "base_uri": "https://localhost:8080/"
        },
        "id": "YLZVRf2ATzJ5",
        "outputId": "5fa6a805-a325-4499-aa4a-022f553d47fe"
      },
      "source": [
        "#problem-4\n",
        "\n",
        "\n",
        "def two_unique_nums(nums):\n",
        "  return [i for i in nums if nums.count(i)==1]\n",
        "print(two_unique_nums([50,20,50,30,70,20]))\n",
        "print(two_unique_nums([12,21,22,23,12,43]))"
      ],
      "execution_count": 11,
      "outputs": [
        {
          "output_type": "stream",
          "text": [
            "[30, 70]\n",
            "[21, 22, 23, 43]\n"
          ],
          "name": "stdout"
        }
      ]
    },
    {
      "cell_type": "code",
      "metadata": {
        "colab": {
          "base_uri": "https://localhost:8080/"
        },
        "id": "-89ecRg01Py5",
        "outputId": "29ab7e0d-2564-4557-80b9-f3e803868cfb"
      },
      "source": [
        "\n",
        "List=[2,4,1,3,4,1,2,2,7,6,9,9,7,4,6,10,36,2,3]\n",
        "print(List)\n",
        "dublicate = []\n",
        "for i in List:\n",
        "    if i not in dublicate:\n",
        "        dublicate.append(i)\n",
        "\n",
        "print (\"After removing duplicates : \" + str(dublicate))\n"
      ],
      "execution_count": null,
      "outputs": [
        {
          "output_type": "stream",
          "text": [
            "[2, 4, 1, 3, 4, 1, 2, 2, 7, 6, 9, 9, 7, 4, 6, 10, 36, 2, 3]\n",
            "After removing duplicates : [2, 4, 1, 3, 7, 6, 9, 10, 36]\n"
          ],
          "name": "stdout"
        }
      ]
    }
  ]
}